{
 "cells": [
  {
   "cell_type": "code",
   "execution_count": 1,
   "id": "b4b0cef2-f51f-400a-bd04-328c5a40f5ad",
   "metadata": {},
   "outputs": [],
   "source": [
    "import duckdb"
   ]
  },
  {
   "cell_type": "code",
   "execution_count": 3,
   "id": "5351b6a8-9316-47a6-b3e6-f89b5da710a0",
   "metadata": {},
   "outputs": [],
   "source": [
    "conn = duckdb.connect(\"test.db\")"
   ]
  },
  {
   "cell_type": "code",
   "execution_count": 5,
   "id": "2ff37b52-3e16-4b95-a072-2e5548bf50c7",
   "metadata": {},
   "outputs": [
    {
     "data": {
      "text/plain": [
       "┌────────┐\n",
       "│ number │\n",
       "│ int32  │\n",
       "├────────┤\n",
       "│     42 │\n",
       "└────────┘"
      ]
     },
     "execution_count": 5,
     "metadata": {},
     "output_type": "execute_result"
    }
   ],
   "source": [
    "conn.sql(\"Select 42 as number\")"
   ]
  }
 ],
 "metadata": {
  "kernelspec": {
   "display_name": "Python 3 (ipykernel)",
   "language": "python",
   "name": "python3"
  },
  "language_info": {
   "codemirror_mode": {
    "name": "ipython",
    "version": 3
   },
   "file_extension": ".py",
   "mimetype": "text/x-python",
   "name": "python",
   "nbconvert_exporter": "python",
   "pygments_lexer": "ipython3",
   "version": "3.11.6"
  }
 },
 "nbformat": 4,
 "nbformat_minor": 5
}
